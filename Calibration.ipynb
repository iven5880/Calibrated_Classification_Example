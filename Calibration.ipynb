{
 "cells": [
  {
   "cell_type": "code",
   "execution_count": 16,
   "metadata": {},
   "outputs": [],
   "source": [
    "%reset -f"
   ]
  },
  {
   "cell_type": "code",
   "execution_count": 17,
   "metadata": {},
   "outputs": [],
   "source": [
    "import matplotlib.pyplot as plt\n",
    "plt.style.use('seaborn')\n",
    "\n",
    "import pandas as pd\n",
    "import numpy as np\n",
    "\n",
    "from sklearn.linear_model import LogisticRegression\n",
    "from sklearn.ensemble import RandomForestClassifier, ExtraTreesClassifier\n",
    "from sklearn.model_selection import train_test_split\n",
    "from sklearn.metrics import accuracy_score\n",
    "from sklearn.calibration import calibration_curve, CalibratedClassifierCV\n",
    "\n",
    "from collections import Counter"
   ]
  },
  {
   "cell_type": "markdown",
   "metadata": {},
   "source": [
    "## Generate Data"
   ]
  },
  {
   "cell_type": "code",
   "execution_count": 18,
   "metadata": {},
   "outputs": [
    {
     "data": {
      "text/html": [
       "<div>\n",
       "<style scoped>\n",
       "    .dataframe tbody tr th:only-of-type {\n",
       "        vertical-align: middle;\n",
       "    }\n",
       "\n",
       "    .dataframe tbody tr th {\n",
       "        vertical-align: top;\n",
       "    }\n",
       "\n",
       "    .dataframe thead th {\n",
       "        text-align: right;\n",
       "    }\n",
       "</style>\n",
       "<table border=\"1\" class=\"dataframe\">\n",
       "  <thead>\n",
       "    <tr style=\"text-align: right;\">\n",
       "      <th></th>\n",
       "      <th>Quantitative</th>\n",
       "      <th>Verbal</th>\n",
       "      <th>Total</th>\n",
       "      <th>Passed</th>\n",
       "    </tr>\n",
       "  </thead>\n",
       "  <tbody>\n",
       "    <tr>\n",
       "      <th>0</th>\n",
       "      <td>732</td>\n",
       "      <td>272</td>\n",
       "      <td>1004</td>\n",
       "      <td>0</td>\n",
       "    </tr>\n",
       "    <tr>\n",
       "      <th>1</th>\n",
       "      <td>215</td>\n",
       "      <td>312</td>\n",
       "      <td>527</td>\n",
       "      <td>0</td>\n",
       "    </tr>\n",
       "    <tr>\n",
       "      <th>2</th>\n",
       "      <td>574</td>\n",
       "      <td>799</td>\n",
       "      <td>1373</td>\n",
       "      <td>1</td>\n",
       "    </tr>\n",
       "    <tr>\n",
       "      <th>3</th>\n",
       "      <td>255</td>\n",
       "      <td>511</td>\n",
       "      <td>766</td>\n",
       "      <td>0</td>\n",
       "    </tr>\n",
       "    <tr>\n",
       "      <th>4</th>\n",
       "      <td>756</td>\n",
       "      <td>594</td>\n",
       "      <td>1350</td>\n",
       "      <td>1</td>\n",
       "    </tr>\n",
       "    <tr>\n",
       "      <th>...</th>\n",
       "      <td>...</td>\n",
       "      <td>...</td>\n",
       "      <td>...</td>\n",
       "      <td>...</td>\n",
       "    </tr>\n",
       "    <tr>\n",
       "      <th>995</th>\n",
       "      <td>591</td>\n",
       "      <td>629</td>\n",
       "      <td>1220</td>\n",
       "      <td>0</td>\n",
       "    </tr>\n",
       "    <tr>\n",
       "      <th>996</th>\n",
       "      <td>769</td>\n",
       "      <td>542</td>\n",
       "      <td>1311</td>\n",
       "      <td>1</td>\n",
       "    </tr>\n",
       "    <tr>\n",
       "      <th>997</th>\n",
       "      <td>572</td>\n",
       "      <td>224</td>\n",
       "      <td>796</td>\n",
       "      <td>0</td>\n",
       "    </tr>\n",
       "    <tr>\n",
       "      <th>998</th>\n",
       "      <td>599</td>\n",
       "      <td>513</td>\n",
       "      <td>1112</td>\n",
       "      <td>0</td>\n",
       "    </tr>\n",
       "    <tr>\n",
       "      <th>999</th>\n",
       "      <td>758</td>\n",
       "      <td>405</td>\n",
       "      <td>1163</td>\n",
       "      <td>0</td>\n",
       "    </tr>\n",
       "  </tbody>\n",
       "</table>\n",
       "<p>1000 rows × 4 columns</p>\n",
       "</div>"
      ],
      "text/plain": [
       "     Quantitative  Verbal  Total  Passed\n",
       "0             732     272   1004       0\n",
       "1             215     312    527       0\n",
       "2             574     799   1373       1\n",
       "3             255     511    766       0\n",
       "4             756     594   1350       1\n",
       "..            ...     ...    ...     ...\n",
       "995           591     629   1220       0\n",
       "996           769     542   1311       1\n",
       "997           572     224    796       0\n",
       "998           599     513   1112       0\n",
       "999           758     405   1163       0\n",
       "\n",
       "[1000 rows x 4 columns]"
      ]
     },
     "execution_count": 18,
     "metadata": {},
     "output_type": "execute_result"
    }
   ],
   "source": [
    "n = 1000\n",
    "passScore = 1300\n",
    "\n",
    "theScores = np.random.randint(200, 801, [n,2])\n",
    "\n",
    "theTotals = np.sum(theScores, axis=1)\n",
    "\n",
    "df = pd.DataFrame(theScores, columns=['Quantitative', 'Verbal'])\n",
    "df['Total'] = theTotals\n",
    "df['Passed'] = np.where(theTotals>=passScore, 1, 0)\n",
    "\n",
    "df"
   ]
  },
  {
   "cell_type": "code",
   "execution_count": 19,
   "metadata": {},
   "outputs": [
    {
     "data": {
      "image/png": "[encoded data removed]",
      "text/plain": [
       "<Figure size 576x396 with 1 Axes>"
      ]
     },
     "metadata": {},
     "output_type": "display_data"
    }
   ],
   "source": [
    "for ps in [0,1]:\n",
    "    idx = [True if i==ps else False for i in df['Passed']]\n",
    "    tdf = df[idx]\n",
    "    plt.plot(tdf['Quantitative'], tdf['Verbal'], '.')\n",
    "\n",
    "plt.axis('equal')\n",
    "plt.show()"
   ]
  },
  {
   "cell_type": "markdown",
   "metadata": {},
   "source": [
    "## Model and Prediction"
   ]
  },
  {
   "cell_type": "code",
   "execution_count": 20,
   "metadata": {},
   "outputs": [],
   "source": [
    "data = df.drop(['Passed', 'Total'], axis=1)\n",
    "target = df['Passed']\n",
    "\n",
    "x,xt,y,yt = train_test_split(data, target)"
   ]
  },
  {
   "cell_type": "code",
   "execution_count": 21,
   "metadata": {},
   "outputs": [
    {
     "name": "stdout",
     "output_type": "stream",
     "text": [
      "Accuracy: 89.2 %\n"
     ]
    }
   ],
   "source": [
    "# theModel = LogisticRegression()\n",
    "# theModel = RandomForestClassifier(n_estimators=10, max_depth=2, class_weight='balanced')\n",
    "theModel = ExtraTreesClassifier(n_estimators=10, max_depth=2, class_weight='balanced')\n",
    "\n",
    "theModel.fit(x, y)\n",
    "\n",
    "yp = theModel.predict(xt)\n",
    "\n",
    "acc = round(100*accuracy_score(y_true=yt, y_pred=yp), 2)\n",
    "print('Accuracy:', acc, '%')"
   ]
  },
  {
   "cell_type": "code",
   "execution_count": 22,
   "metadata": {},
   "outputs": [
    {
     "data": {
      "image/png": "[encoded data removed]",
      "text/plain": [
       "<Figure size 576x396 with 1 Axes>"
      ]
     },
     "metadata": {},
     "output_type": "display_data"
    }
   ],
   "source": [
    "yProb = theModel.predict_proba(xt)[:,1]\n",
    "\n",
    "hx = np.digitize(x=yProb, bins=np.linspace(0,1,11), right=True)\n",
    "hx = sorted(Counter(hx).most_common())\n",
    "\n",
    "px = [str(i[0]/10) for i in hx]\n",
    "py = [i[1] for i in hx]\n",
    "plt.bar(px, py)\n",
    "plt.show()"
   ]
  },
  {
   "cell_type": "code",
   "execution_count": 23,
   "metadata": {},
   "outputs": [
    {
     "data": {
      "text/html": [
       "<div>\n",
       "<style scoped>\n",
       "    .dataframe tbody tr th:only-of-type {\n",
       "        vertical-align: middle;\n",
       "    }\n",
       "\n",
       "    .dataframe tbody tr th {\n",
       "        vertical-align: top;\n",
       "    }\n",
       "\n",
       "    .dataframe thead th {\n",
       "        text-align: right;\n",
       "    }\n",
       "</style>\n",
       "<table border=\"1\" class=\"dataframe\">\n",
       "  <thead>\n",
       "    <tr style=\"text-align: right;\">\n",
       "      <th></th>\n",
       "      <th>Quantitative</th>\n",
       "      <th>Verbal</th>\n",
       "      <th>Passed</th>\n",
       "      <th>Pred</th>\n",
       "      <th>Prob</th>\n",
       "      <th>ProbBucket</th>\n",
       "    </tr>\n",
       "  </thead>\n",
       "  <tbody>\n",
       "    <tr>\n",
       "      <th>0</th>\n",
       "      <td>673</td>\n",
       "      <td>210</td>\n",
       "      <td>0</td>\n",
       "      <td>0</td>\n",
       "      <td>0.178677</td>\n",
       "      <td>2</td>\n",
       "    </tr>\n",
       "    <tr>\n",
       "      <th>1</th>\n",
       "      <td>396</td>\n",
       "      <td>281</td>\n",
       "      <td>0</td>\n",
       "      <td>0</td>\n",
       "      <td>0.150074</td>\n",
       "      <td>2</td>\n",
       "    </tr>\n",
       "    <tr>\n",
       "      <th>2</th>\n",
       "      <td>462</td>\n",
       "      <td>341</td>\n",
       "      <td>0</td>\n",
       "      <td>0</td>\n",
       "      <td>0.179426</td>\n",
       "      <td>2</td>\n",
       "    </tr>\n",
       "    <tr>\n",
       "      <th>3</th>\n",
       "      <td>469</td>\n",
       "      <td>398</td>\n",
       "      <td>0</td>\n",
       "      <td>0</td>\n",
       "      <td>0.179426</td>\n",
       "      <td>2</td>\n",
       "    </tr>\n",
       "    <tr>\n",
       "      <th>4</th>\n",
       "      <td>472</td>\n",
       "      <td>412</td>\n",
       "      <td>0</td>\n",
       "      <td>0</td>\n",
       "      <td>0.179426</td>\n",
       "      <td>2</td>\n",
       "    </tr>\n",
       "    <tr>\n",
       "      <th>...</th>\n",
       "      <td>...</td>\n",
       "      <td>...</td>\n",
       "      <td>...</td>\n",
       "      <td>...</td>\n",
       "      <td>...</td>\n",
       "      <td>...</td>\n",
       "    </tr>\n",
       "    <tr>\n",
       "      <th>245</th>\n",
       "      <td>492</td>\n",
       "      <td>668</td>\n",
       "      <td>0</td>\n",
       "      <td>0</td>\n",
       "      <td>0.444764</td>\n",
       "      <td>5</td>\n",
       "    </tr>\n",
       "    <tr>\n",
       "      <th>246</th>\n",
       "      <td>591</td>\n",
       "      <td>629</td>\n",
       "      <td>0</td>\n",
       "      <td>1</td>\n",
       "      <td>0.500640</td>\n",
       "      <td>6</td>\n",
       "    </tr>\n",
       "    <tr>\n",
       "      <th>247</th>\n",
       "      <td>437</td>\n",
       "      <td>351</td>\n",
       "      <td>0</td>\n",
       "      <td>0</td>\n",
       "      <td>0.179426</td>\n",
       "      <td>2</td>\n",
       "    </tr>\n",
       "    <tr>\n",
       "      <th>248</th>\n",
       "      <td>203</td>\n",
       "      <td>695</td>\n",
       "      <td>0</td>\n",
       "      <td>0</td>\n",
       "      <td>0.380881</td>\n",
       "      <td>4</td>\n",
       "    </tr>\n",
       "    <tr>\n",
       "      <th>249</th>\n",
       "      <td>215</td>\n",
       "      <td>506</td>\n",
       "      <td>0</td>\n",
       "      <td>0</td>\n",
       "      <td>0.277429</td>\n",
       "      <td>3</td>\n",
       "    </tr>\n",
       "  </tbody>\n",
       "</table>\n",
       "<p>250 rows × 6 columns</p>\n",
       "</div>"
      ],
      "text/plain": [
       "     Quantitative  Verbal  Passed  Pred      Prob  ProbBucket\n",
       "0             673     210       0     0  0.178677           2\n",
       "1             396     281       0     0  0.150074           2\n",
       "2             462     341       0     0  0.179426           2\n",
       "3             469     398       0     0  0.179426           2\n",
       "4             472     412       0     0  0.179426           2\n",
       "..            ...     ...     ...   ...       ...         ...\n",
       "245           492     668       0     0  0.444764           5\n",
       "246           591     629       0     1  0.500640           6\n",
       "247           437     351       0     0  0.179426           2\n",
       "248           203     695       0     0  0.380881           4\n",
       "249           215     506       0     0  0.277429           3\n",
       "\n",
       "[250 rows x 6 columns]"
      ]
     },
     "execution_count": 23,
     "metadata": {},
     "output_type": "execute_result"
    }
   ],
   "source": [
    "pdf = pd.DataFrame(xt.values, columns=['Quantitative', 'Verbal'])\n",
    "pdf['Passed'] = yt.values\n",
    "\n",
    "pdf['Pred'] = yp\n",
    "pdf['Prob'] = yProb\n",
    "pdf['ProbBucket'] = np.digitize(x=yProb, bins=np.linspace(0,1,11), right=True)\n",
    "\n",
    "pdf"
   ]
  },
  {
   "cell_type": "markdown",
   "metadata": {},
   "source": [
    "## Calibration: Diagnosis"
   ]
  },
  {
   "cell_type": "code",
   "execution_count": 24,
   "metadata": {},
   "outputs": [],
   "source": [
    "thePredProps = []\n",
    "\n",
    "for pb in sorted(set(pdf['ProbBucket'])):\n",
    "    idx = [True if i==pb else False for i in pdf['ProbBucket']]\n",
    "    dist = Counter(pdf[idx]['Passed'])\n",
    "    prop = dist[1]/sum(dist.values()) # actual probability of positive class in each bucket\n",
    "    mnp = pdf[idx]['Prob'].mean() # mean of predicted probabilities in each bucket\n",
    "    thePredProps.append( (mnp, prop) )"
   ]
  },
  {
   "cell_type": "code",
   "execution_count": 25,
   "metadata": {},
   "outputs": [
    {
     "data": {
      "image/png": "[encoded data removed]",
      "text/plain": [
       "<Figure size 576x396 with 1 Axes>"
      ]
     },
     "metadata": {},
     "output_type": "display_data"
    }
   ],
   "source": [
    "z = np.array(thePredProps)\n",
    "perf = np.linspace(0,1,11)\n",
    "\n",
    "nBin = len(set(pdf['ProbBucket'])) - 1\n",
    "yCalib, xCalib = calibration_curve(yt, yProb, n_bins=nBin, strategy='uniform')\n",
    "\n",
    "plt.plot(z[:,0], z[:,1], 'k-o')\n",
    "plt.plot(xCalib, yCalib, 'C4:o')\n",
    "plt.plot(perf, perf, 'r--')\n",
    "plt.legend(['Computed Calibration', 'SK-Learn Calibration', 'Perfect Calibration'])\n",
    "plt.show()"
   ]
  },
  {
   "cell_type": "markdown",
   "metadata": {},
   "source": [
    "## Calibration: Remedy"
   ]
  },
  {
   "cell_type": "code",
   "execution_count": 26,
   "metadata": {},
   "outputs": [
    {
     "name": "stdout",
     "output_type": "stream",
     "text": [
      "Accuracy: 98.0 %\n"
     ]
    }
   ],
   "source": [
    "# calibModel = CalibratedClassifierCV(theModel, cv='prefit')\n",
    "calibModel = CalibratedClassifierCV(theModel, cv=3)\n",
    "\n",
    "calibModel.fit(x, y)\n",
    "\n",
    "ypc = calibModel.predict(xt)\n",
    "\n",
    "acc = round(100*accuracy_score(y_true=yt, y_pred=ypc), 2)\n",
    "print('Accuracy:', acc, '%')"
   ]
  },
  {
   "cell_type": "code",
   "execution_count": 27,
   "metadata": {},
   "outputs": [
    {
     "data": {
      "image/png": "[encoded data removed]",
      "text/plain": [
       "<Figure size 576x396 with 1 Axes>"
      ]
     },
     "metadata": {},
     "output_type": "display_data"
    }
   ],
   "source": [
    "yCalProb = calibModel.predict_proba(xt)[:,1]\n",
    "\n",
    "hx = np.digitize(x=yCalProb, bins=np.linspace(0,1,11), right=True)\n",
    "hx = sorted(Counter(hx).most_common())\n",
    "\n",
    "px = [str(i[0]/10) for i in hx]\n",
    "py = [i[1] for i in hx]\n",
    "\n",
    "plt.bar(px, py)\n",
    "plt.show()"
   ]
  },
  {
   "cell_type": "code",
   "execution_count": 28,
   "metadata": {},
   "outputs": [
    {
     "data": {
      "text/html": [
       "<div>\n",
       "<style scoped>\n",
       "    .dataframe tbody tr th:only-of-type {\n",
       "        vertical-align: middle;\n",
       "    }\n",
       "\n",
       "    .dataframe tbody tr th {\n",
       "        vertical-align: top;\n",
       "    }\n",
       "\n",
       "    .dataframe thead th {\n",
       "        text-align: right;\n",
       "    }\n",
       "</style>\n",
       "<table border=\"1\" class=\"dataframe\">\n",
       "  <thead>\n",
       "    <tr style=\"text-align: right;\">\n",
       "      <th></th>\n",
       "      <th>Quantitative</th>\n",
       "      <th>Verbal</th>\n",
       "      <th>Passed</th>\n",
       "      <th>Pred</th>\n",
       "      <th>Prob</th>\n",
       "      <th>ProbBucket</th>\n",
       "      <th>ProbCalib</th>\n",
       "      <th>ProbCalibBucket</th>\n",
       "    </tr>\n",
       "  </thead>\n",
       "  <tbody>\n",
       "    <tr>\n",
       "      <th>0</th>\n",
       "      <td>673</td>\n",
       "      <td>210</td>\n",
       "      <td>0</td>\n",
       "      <td>0</td>\n",
       "      <td>0.178677</td>\n",
       "      <td>2</td>\n",
       "      <td>0.000965</td>\n",
       "      <td>1</td>\n",
       "    </tr>\n",
       "    <tr>\n",
       "      <th>1</th>\n",
       "      <td>396</td>\n",
       "      <td>281</td>\n",
       "      <td>0</td>\n",
       "      <td>0</td>\n",
       "      <td>0.150074</td>\n",
       "      <td>2</td>\n",
       "      <td>0.000049</td>\n",
       "      <td>1</td>\n",
       "    </tr>\n",
       "    <tr>\n",
       "      <th>2</th>\n",
       "      <td>462</td>\n",
       "      <td>341</td>\n",
       "      <td>0</td>\n",
       "      <td>0</td>\n",
       "      <td>0.179426</td>\n",
       "      <td>2</td>\n",
       "      <td>0.000400</td>\n",
       "      <td>1</td>\n",
       "    </tr>\n",
       "    <tr>\n",
       "      <th>3</th>\n",
       "      <td>469</td>\n",
       "      <td>398</td>\n",
       "      <td>0</td>\n",
       "      <td>0</td>\n",
       "      <td>0.179426</td>\n",
       "      <td>2</td>\n",
       "      <td>0.000948</td>\n",
       "      <td>1</td>\n",
       "    </tr>\n",
       "    <tr>\n",
       "      <th>4</th>\n",
       "      <td>472</td>\n",
       "      <td>412</td>\n",
       "      <td>0</td>\n",
       "      <td>0</td>\n",
       "      <td>0.179426</td>\n",
       "      <td>2</td>\n",
       "      <td>0.000948</td>\n",
       "      <td>1</td>\n",
       "    </tr>\n",
       "    <tr>\n",
       "      <th>...</th>\n",
       "      <td>...</td>\n",
       "      <td>...</td>\n",
       "      <td>...</td>\n",
       "      <td>...</td>\n",
       "      <td>...</td>\n",
       "      <td>...</td>\n",
       "      <td>...</td>\n",
       "      <td>...</td>\n",
       "    </tr>\n",
       "    <tr>\n",
       "      <th>245</th>\n",
       "      <td>492</td>\n",
       "      <td>668</td>\n",
       "      <td>0</td>\n",
       "      <td>0</td>\n",
       "      <td>0.444764</td>\n",
       "      <td>5</td>\n",
       "      <td>0.120185</td>\n",
       "      <td>2</td>\n",
       "    </tr>\n",
       "    <tr>\n",
       "      <th>246</th>\n",
       "      <td>591</td>\n",
       "      <td>629</td>\n",
       "      <td>0</td>\n",
       "      <td>1</td>\n",
       "      <td>0.500640</td>\n",
       "      <td>6</td>\n",
       "      <td>0.166962</td>\n",
       "      <td>2</td>\n",
       "    </tr>\n",
       "    <tr>\n",
       "      <th>247</th>\n",
       "      <td>437</td>\n",
       "      <td>351</td>\n",
       "      <td>0</td>\n",
       "      <td>0</td>\n",
       "      <td>0.179426</td>\n",
       "      <td>2</td>\n",
       "      <td>0.000143</td>\n",
       "      <td>1</td>\n",
       "    </tr>\n",
       "    <tr>\n",
       "      <th>248</th>\n",
       "      <td>203</td>\n",
       "      <td>695</td>\n",
       "      <td>0</td>\n",
       "      <td>0</td>\n",
       "      <td>0.380881</td>\n",
       "      <td>4</td>\n",
       "      <td>0.000918</td>\n",
       "      <td>1</td>\n",
       "    </tr>\n",
       "    <tr>\n",
       "      <th>249</th>\n",
       "      <td>215</td>\n",
       "      <td>506</td>\n",
       "      <td>0</td>\n",
       "      <td>0</td>\n",
       "      <td>0.277429</td>\n",
       "      <td>3</td>\n",
       "      <td>0.000184</td>\n",
       "      <td>1</td>\n",
       "    </tr>\n",
       "  </tbody>\n",
       "</table>\n",
       "<p>250 rows × 8 columns</p>\n",
       "</div>"
      ],
      "text/plain": [
       "     Quantitative  Verbal  Passed  Pred      Prob  ProbBucket  ProbCalib  \\\n",
       "0             673     210       0     0  0.178677           2   0.000965   \n",
       "1             396     281       0     0  0.150074           2   0.000049   \n",
       "2             462     341       0     0  0.179426           2   0.000400   \n",
       "3             469     398       0     0  0.179426           2   0.000948   \n",
       "4             472     412       0     0  0.179426           2   0.000948   \n",
       "..            ...     ...     ...   ...       ...         ...        ...   \n",
       "245           492     668       0     0  0.444764           5   0.120185   \n",
       "246           591     629       0     1  0.500640           6   0.166962   \n",
       "247           437     351       0     0  0.179426           2   0.000143   \n",
       "248           203     695       0     0  0.380881           4   0.000918   \n",
       "249           215     506       0     0  0.277429           3   0.000184   \n",
       "\n",
       "     ProbCalibBucket  \n",
       "0                  1  \n",
       "1                  1  \n",
       "2                  1  \n",
       "3                  1  \n",
       "4                  1  \n",
       "..               ...  \n",
       "245                2  \n",
       "246                2  \n",
       "247                1  \n",
       "248                1  \n",
       "249                1  \n",
       "\n",
       "[250 rows x 8 columns]"
      ]
     },
     "execution_count": 28,
     "metadata": {},
     "output_type": "execute_result"
    }
   ],
   "source": [
    "pdf['ProbCalib'] = yCalProb\n",
    "pdf['ProbCalibBucket'] = np.digitize(x=yCalProb, bins=np.linspace(0,1,11), right=True)\n",
    "\n",
    "pdf"
   ]
  },
  {
   "cell_type": "code",
   "execution_count": 29,
   "metadata": {},
   "outputs": [],
   "source": [
    "theCalibPredProps = []\n",
    "\n",
    "for pb in sorted(set(pdf['ProbCalibBucket'])):\n",
    "    idx = [True if i==pb else False for i in pdf['ProbCalibBucket']]\n",
    "    dist = Counter(pdf[idx]['Passed'])\n",
    "    prop = dist[1]/sum(dist.values()) # actual probability of positive class in each bucket\n",
    "    mnp = pdf[idx]['ProbCalib'].mean() # mean of predicted probabilities in each bucket\n",
    "    theCalibPredProps.append( (mnp, prop) )"
   ]
  },
  {
   "cell_type": "code",
   "execution_count": 30,
   "metadata": {},
   "outputs": [
    {
     "data": {
      "image/png": "[encoded data removed]",
      "text/plain": [
       "<Figure size 576x396 with 1 Axes>"
      ]
     },
     "metadata": {},
     "output_type": "display_data"
    }
   ],
   "source": [
    "z = np.array(theCalibPredProps)\n",
    "perf = np.linspace(0,1,11)\n",
    "\n",
    "nBin = len(set(pdf['ProbCalibBucket']))\n",
    "yCalib, xCalib = calibration_curve(yt, yCalProb, n_bins=nBin, strategy='uniform')\n",
    "\n",
    "plt.plot(z[:,0], z[:,1], 'k-o')\n",
    "plt.plot(xCalib, yCalib, 'C4:o')\n",
    "plt.plot(perf, perf, 'r--')\n",
    "plt.legend(['Computed Calibration', 'SK-Learn Calibration', 'Perfect Calibration'])\n",
    "plt.show()"
   ]
  },
  {
   "cell_type": "code",
   "execution_count": null,
   "metadata": {},
   "outputs": [],
   "source": []
  }
 ],
 "metadata": {
  "kernelspec": {
   "display_name": "Python 3",
   "language": "python",
   "name": "python3"
  },
  "language_info": {
   "codemirror_mode": {
    "name": "ipython",
    "version": 3
   },
   "file_extension": ".py",
   "mimetype": "text/x-python",
   "name": "python",
   "nbconvert_exporter": "python",
   "pygments_lexer": "ipython3",
   "version": "3.7.1"
  }
 },
 "nbformat": 4,
 "nbformat_minor": 2
}
